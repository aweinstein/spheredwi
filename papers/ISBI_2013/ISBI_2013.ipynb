{
 "metadata": {
  "name": "ISBI_2013"
 },
 "nbformat": 3,
 "nbformat_minor": 0,
 "worksheets": [
  {
   "cells": [
    {
     "cell_type": "markdown",
     "metadata": {},
     "source": [
      "# Sparse Reproducing Kernels for Modeling Fiber Crossings in Diffusion Weighted Imaging"
     ]
    },
    {
     "cell_type": "markdown",
     "metadata": {},
     "source": [
      "Before using this notebook, please configure your environment according to [these instructions](http://nbviewer.ipython.org/urls/raw.github.com/fperez/spheredwi/master/papers/ISBI_2013/bootstrap.ipynb)."
     ]
    },
    {
     "cell_type": "code",
     "collapsed": false,
     "input": [
      "import sys\n",
      "sys.path.insert(0, 'dipy')\n",
      "\n",
      "sys.path.insert(0, 'spheredwi/src/fiber_directions/')\n",
      "sys.path.insert(0, 'spheredwi/src/')\n",
      "\n",
      "import matplotlib.pyplot as plt\n",
      "import numpy as np"
     ],
     "language": "python",
     "metadata": {},
     "outputs": []
    },
    {
     "cell_type": "code",
     "collapsed": false,
     "input": [
      "# Only execute this cell if you are running on a headless display,\n",
      "# such as on Amazon EC2\n",
      "\n",
      "!echo \"Xvfb :1 -screen 0 1280x1024x24 -auth localhost\" | at now\n",
      "import os\n",
      "os.environ['DISPLAY'] = 'localhost:1.0'"
     ],
     "language": "python",
     "metadata": {},
     "outputs": []
    },
    {
     "cell_type": "markdown",
     "metadata": {},
     "source": [
      "## Kernel visualization"
     ]
    },
    {
     "cell_type": "code",
     "collapsed": false,
     "input": [
      "from kernel_model import even_kernel, inv_funk_radon_even_kernel\n",
      "from dipy.viz import show_odfs\n",
      "from dipy.core.sphere import unit_icosahedron\n",
      "\n",
      "sphere = unit_icosahedron.subdivide(6)\n",
      "\n",
      "from mayavi import mlab\n",
      "mlab.options.offscreen = True\n",
      "mlab.figure(bgcolor=(1, 1, 1))\n",
      "\n",
      "# sphere.z = np.dot([0, 0, 1], [x, y, z]) = cos(mu)\n",
      "kernel_odf = even_kernel(sphere.z, N=8)\n",
      "kernel_signal = inv_funk_radon_even_kernel(sphere.z, N=8)\n",
      "\n",
      "show_odfs([[[kernel_odf, kernel_signal]]], (sphere.vertices, sphere.faces))\n",
      "mlab.view(azimuth=0, elevation=70, roll=160)\n",
      "\n",
      "fn = 'odf_crossing_both_domains.png'\n",
      "mlab.savefig(fn)\n",
      "mlab.close()\n",
      "\n",
      "from IPython.display import Image\n",
      "Image(filename=fn)"
     ],
     "language": "python",
     "metadata": {},
     "outputs": []
    },
    {
     "cell_type": "markdown",
     "metadata": {},
     "source": [
      "## Fiber crossings"
     ]
    },
    {
     "cell_type": "code",
     "collapsed": false,
     "input": [
      "from kernel_model import SparseKernelModel\n",
      "from kernel_model import quadrature_points\n",
      "from sphdif.linalg import rotation_around_axis\n",
      "\n",
      "from dipy.core.gradients import GradientTable\n",
      "from dipy.reconst.shm import CsaOdfModel, OpdtModel, QballModel\n",
      "from dipy.sims.voxel import single_tensor\n",
      "from dipy.core.sphere import unit_icosahedron\n",
      "from dipy.reconst.odf import NonLinearDirectionFinder, DiscreteDirectionFinder\n",
      "import dipy.data\n",
      "\n",
      "from numpy.linalg import norm as norm\n",
      "\n",
      "AganjModel = CsaOdfModel\n",
      "TristanVegaModel = OpdtModel\n",
      "TuchModel = QballModel"
     ],
     "language": "python",
     "metadata": {},
     "outputs": []
    },
    {
     "cell_type": "markdown",
     "metadata": {},
     "source": [
      "### Define signal generator"
     ]
    },
    {
     "cell_type": "code",
     "collapsed": false,
     "input": [
      "def two_fiber_signal(bvals, bvecs, angle, w=[0.5, 0.5], SNR=0):\n",
      "    R0 = rotation_around_axis([0, 1, 0], 0)\n",
      "    R1 = rotation_around_axis([0, 1, 0], np.deg2rad(angle))\n",
      "\n",
      "    E = w[0] * single_tensor(gradients=bvecs, bvals=bvals, S0=1, evecs=R0, snr=SNR)\n",
      "    E += w[1] * single_tensor(gradients=bvecs, bvals=bvals, S0=1, evecs=R1, snr=SNR)\n",
      "\n",
      "    return E"
     ],
     "language": "python",
     "metadata": {},
     "outputs": []
    },
    {
     "cell_type": "markdown",
     "metadata": {},
     "source": [
      "### Define the experiment"
     ]
    },
    {
     "cell_type": "code",
     "collapsed": false,
     "input": [
      "def recover_angle(model, sig_gtab, angles, realizations, discarded, sig_noise):\n",
      "    \"\"\"Generate a noisy data-set for fibers crossing at given angles,\n",
      "    then try to recover that angle.\n",
      "\n",
      "    Parameters\n",
      "    ----------\n",
      "    model : OdfModel\n",
      "        Model to fit to the data.\n",
      "    sig_gtab : GradientTable\n",
      "        Gradients for signal simulation.\n",
      "    angles : (M,) ndarray of float\n",
      "        Angles at which to repeat the experiment.\n",
      "    realizations : int\n",
      "        Number of times to repeat the simulation for each individual angle.\n",
      "    discarded : int\n",
      "        Number of measurements to drop at random on each iteration.\n",
      "    sig_noise : float\n",
      "        Signal to noise ratio.  Use the power definition, i.e.\n",
      "        P_signal / P_noise.\n",
      "\n",
      "    Returns\n",
      "    -------\n",
      "    recovered_angles : (M, realizations) ndarray\n",
      "        For each of the M angles, return the angle recovered for each realization.\n",
      "    compression_ratios : (M, realizations) ndarray\n",
      "        Compression ratio (non-zero coefficients vs total number of coefficients) for each realization.\n",
      "        Should be close to one for dense models, and much lower for sparse models.\n",
      "\n",
      "    \"\"\"\n",
      "    # Pre-allocate results storage\n",
      "    recovered_angles = np.zeros((len(angles), realizations))\n",
      "    compression_ratios = np.zeros((len(angles), realizations))\n",
      "\n",
      "    \n",
      "    # This mask will be permuted on each iteration and used to discard measurements\n",
      "    mask = np.zeros_like(bvals, dtype=bool)\n",
      "    mask[:discarded] = True\n",
      "    \n",
      "    for n, angle in enumerate(angles):\n",
      "    \n",
      "        print \"Angle %.2f, %d realizations, discarding %d measurements\" % \\\n",
      "              (angle, realizations, discarded)\n",
      "    \n",
      "        # MC simulation loop\n",
      "        for kk in range(0, realizations):\n",
      "            \n",
      "            ## Generate measured signal\n",
      "            E = two_fiber_signal(sig_gtab.bvals, sig_gtab.bvecs, angle, SNR=None)\n",
      "    \n",
      "            ## Create and add in Rician noise\n",
      "            noiseR = np.random.random(E.shape)\n",
      "            noiseI = np.random.random(E.shape)\n",
      "            noise = noiseR + 1j * noiseI\n",
      "            tau = (10.0**(-sig_noise / 10.0) * norm(E, 2))\n",
      "            noise = noise * (tau / norm(noise)) # Normalize to get desired SNR\n",
      "    \n",
      "            E = E + noise\n",
      "            E = abs(E) # Measured amplitude signal\n",
      "    \n",
      "            ## Randomly drop a few measurements by replacing their values with NaN\n",
      "            np.random.shuffle(mask)\n",
      "            E[mask] = np.nan\n",
      "            \n",
      "            ## Fit the model and get the directions\n",
      "            fit = model.fit(E)\n",
      "            try:\n",
      "                xyz = fit.directions\n",
      "            except ValueError:\n",
      "                xyz = []\n",
      "    \n",
      "            ## If fewer than two primary directions were found, return 0 as the angle\n",
      "            if len(xyz) > 1:\n",
      "                w = np.dot(xyz[0], xyz[1])\n",
      "            else:\n",
      "                w = 1\n",
      "    \n",
      "            ## Store the recovered angle for later analysis\n",
      "            recovered_angles[n, kk] = np.rad2deg(np.arccos(np.abs(w)))\n",
      "            \n",
      "            try:\n",
      "                compression_ratios[n, kk] = np.sum(fit.betas < 1e-10) / len(fit.betas)\n",
      "            except AttributeError:\n",
      "                # Only our sparse kernel model has a \"betas\" parameter on the fit\n",
      "                pass\n",
      "            \n",
      "    return recovered_angles, compression_ratios"
     ],
     "language": "python",
     "metadata": {},
     "outputs": []
    },
    {
     "cell_type": "markdown",
     "metadata": {},
     "source": [
      "### Configure experiment"
     ]
    },
    {
     "cell_type": "code",
     "collapsed": false,
     "input": [
      "# Number of Monte-Carlo simulations\n",
      "realizations = 50\n",
      "\n",
      "# Randomly discarded measurements\n",
      "discarded = 0\n",
      "\n",
      "# Signal to noise ratios to examine\n",
      "sig_noise = [5, 10, 20]\n",
      "\n",
      "# Crossing angles\n",
      "angles = np.array([30, 35, 40, 45, 50, 55, 60, 65, 70, 75, 80, 85, 90],\n",
      "                  dtype=float)\n",
      "\n",
      "# B-values\n",
      "Bs = [3000,]"
     ],
     "language": "python",
     "metadata": {},
     "outputs": []
    },
    {
     "cell_type": "markdown",
     "metadata": {},
     "source": [
      "### Load gradients and construct direction finding directions"
     ]
    },
    {
     "cell_type": "code",
     "collapsed": false,
     "input": [
      "img, bvals, bvecs = dipy.data.get_data('small_64D')\n",
      "bvals = np.load(bvals)\n",
      "bvecs = np.load(bvecs)\n",
      "where_dwi = (bvals > 0)\n",
      "bvals = bvals[where_dwi]\n",
      "bvecs = bvecs[where_dwi]\n",
      "gtab = GradientTable(bvals[:, None] * bvecs, b0_threshold=0)"
     ],
     "language": "python",
     "metadata": {},
     "outputs": []
    },
    {
     "cell_type": "markdown",
     "metadata": {},
     "source": [
      "### Perform the experiment and save results"
     ]
    },
    {
     "cell_type": "code",
     "collapsed": false,
     "input": [
      "sk_model = SparseKernelModel(gtab, sh_order=8, l1_ratio=0.5, alpha=0.0001)\n",
      "aganj_model = AganjModel(gtab, sh_order=6, smooth=0, min_signal=0, assume_normed=True)\n",
      "tuch_model = TuchModel(gtab, sh_order=6, smooth=0, min_signal=0, assume_normed=True)\n",
      "tv_model = TristanVegaModel(gtab, sh_order=8, smooth=0, min_signal=0, assume_normed=True)\n",
      "\n",
      "# Discrete directions to search for maxima (typically 5 or 6).  Also\n",
      "# used to seed the maximization-based finder.\n",
      "sphere = unit_icosahedron.subdivide(5)\n",
      "\n",
      "for model in (sk_model,):# aganj_model, tuch_model, tv_model):\n",
      "    model_name = model.__class__.__name__\n",
      "    print \"Model: %s\" % model_name\n",
      "    \n",
      "    # Choose between fast but less accurate discrete direction finder,\n",
      "    # vs. optimization based non-linear direction finder\n",
      "    model.direction_finder = DiscreteDirectionFinder()\n",
      "    #model.direction_finder = NonLinearDirectionFinder()\n",
      "    \n",
      "    model.direction_finder.config(sphere=sphere, min_separation_angle=10)\n",
      "\n",
      "    for B in Bs:\n",
      "        print \"B-value: %d\" % B\n",
      "\n",
      "        bval_adjusted = np.ones_like(bvals) * B\n",
      "        sig_gtab = GradientTable(bval_adjusted[:, None] * bvecs, b0_threshold=0)\n",
      "    \n",
      "        for snr in sig_noise:\n",
      "            print \"SNR: %.2f\" % snr\n",
      "\n",
      "            recovered_angles, compression_ratios = recover_angle(model, sig_gtab, angles,\n",
      "                                                                 realizations, discarded, snr)\n",
      "        \n",
      "            filename = '_recovered_angle_%s_%diter_drop%d_snr%.2f.npz' % (model_name, realizations, discarded, snr)\n",
      "    \n",
      "            np.savez(filename, angles=angles, realizations=realizations, discarded=discarded, sig_noise=snr, B=B,\n",
      "                               recovered_angles=recovered_angles, compression_ratios=compression_ratios)"
     ],
     "language": "python",
     "metadata": {},
     "outputs": []
    },
    {
     "cell_type": "markdown",
     "metadata": {},
     "source": [
      "### Read experiment results and visualize"
     ]
    },
    {
     "cell_type": "code",
     "collapsed": false,
     "input": [
      "np.set_printoptions(precision=2, suppress=True)\n",
      "print\n",
      "print \"Angle in / Angle out (mean) / STD / Error\"\n",
      "\n",
      "u = recovered_angle.mean(axis=1)\n",
      "s = recovered_angle.std(axis=1)\n",
      "e = np.abs(angles[:, None] - recovered_angle)\n",
      "e_u = e.mean(axis=1)\n",
      "e_s = e.std(axis=1)\n",
      "\n",
      "print np.column_stack((angles, u, s, e_u))\n",
      "\n",
      "f, ax = plt.subplots()\n",
      "\n",
      "ax.errorbar(angles, e_u, yerr=e_s, fmt='.-')\n",
      "ax.grid()\n",
      "ax.set_xlim([25, 95])\n",
      "ax.set_ylim([-10, 40])\n",
      "\n",
      "ax.set_xlabel('Actual fiber crossing angle')\n",
      "ax.set_ylabel('Error in reconstructed angle')\n",
      "\n",
      "bbox = dict(boxstyle=\"round, pad=1\", fc=\"white\")\n",
      "ax.annotate('''\\\n",
      "%d iterations\n",
      "%d samples randomly discarded\n",
      "Signal-to-Noise ratio (power defn.) = %.2f\\\n",
      "''' % (realizations, discarded, sig_noise), (48, 35), va='top', bbox=bbox)\n",
      "\n",
      "filename = 'angle_reconstruction_%s_%diter_drop%d_snr%.2f.png' % (model_name, realizations, discarded, sig_noise)\n",
      "plt.savefig(filename)"
     ],
     "language": "python",
     "metadata": {},
     "outputs": []
    },
    {
     "cell_type": "code",
     "collapsed": false,
     "input": [
      "from matplotlib import rc\n",
      "rc('text', usetex=True)\n",
      "rc('font', family='serif')\n",
      "\n",
      "sk = np.loadtxt('_recovered_angle_sk_0drop.npy')\n",
      "sk5d = np.loadtxt('_recovered_angle_sk_5drop.npy')\n",
      "ag = np.loadtxt('_recovered_angle_aganj.npy')\n",
      "tc = np.loadtxt('_recovered_angle_tuch.npy')\n",
      "\n",
      "plt.xlabel(r'Exact crossing angle (degrees)',fontsize=16)\n",
      "plt.ylabel(r'Average error in estimated crossing angle (degrees)',fontsize=16)\n",
      "plt.ylim([-10,70])\n",
      "plt.xlim([25,95])\n",
      "plt.grid(True)\n",
      "\n",
      "plt.errorbar(sk[:,0],sk[:,3],yerr=sk[:,3].std(),fmt='-x',label='SK')\n",
      "plt.errorbar(sk5d[:,0],sk5d[:,3],yerr=sk5d[:,3].std(),fmt='-*',label='SK 5 dropped')\n",
      "plt.errorbar(ag[:,0],ag[:,3],yerr=ag[:,3].std(),fmt='--o',label='AG-SH')\n",
      "plt.errorbar(tc[4:,0],tc[4:,3],yerr=tc[4:,3].std(),fmt='-.+',label='QB-SH')\n",
      "plt.legend()\n",
      "\n",
      "\n",
      "#plt.savefig('test')\n",
      "\n",
      "plt.show()\n"
     ],
     "language": "python",
     "metadata": {},
     "outputs": []
    }
   ],
   "metadata": {}
  }
 ]
}
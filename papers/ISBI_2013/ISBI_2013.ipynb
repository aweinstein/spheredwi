{
 "metadata": {
  "name": "ISBI_2013"
 },
 "nbformat": 3,
 "nbformat_minor": 0,
 "worksheets": [
  {
   "cells": [
    {
     "cell_type": "markdown",
     "metadata": {},
     "source": [
      "# Sparse Reproducing Kernels for Modeling Fiber Crossings in Diffusion Weighted Imaging"
     ]
    },
    {
     "cell_type": "markdown",
     "metadata": {},
     "source": [
      "Before using this notebook, please configure your environment according to [these instructions](http://nbviewer.ipython.org/urls/raw.github.com/fperez/spheredwi/master/papers/ISBI_2013/bootstrap.ipynb)."
     ]
    },
    {
     "cell_type": "code",
     "collapsed": false,
     "input": [
      "import sys\n",
      "sys.path.insert(0, 'dipy')\n",
      "\n",
      "sys.path.insert(0, 'spheredwi/src/fiber_directions/')\n",
      "sys.path.insert(0, 'spheredwi/src/')\n",
      "\n",
      "import matplotlib.pyplot as plt\n",
      "import numpy as np"
     ],
     "language": "python",
     "metadata": {},
     "outputs": [],
     "prompt_number": 1
    },
    {
     "cell_type": "code",
     "collapsed": false,
     "input": [
      "# Only execute this cell if you are running on a headless display,\n",
      "# such as on Amazon EC2\n",
      "\n",
      "!echo \"Xvfb :1 -screen 0 1280x1024x24 -auth localhost\" | at now\n",
      "import os\n",
      "os.environ['DISPLAY'] = 'localhost:1.0'"
     ],
     "language": "python",
     "metadata": {},
     "outputs": []
    },
    {
     "cell_type": "markdown",
     "metadata": {},
     "source": [
      "## Kernel visualization"
     ]
    },
    {
     "cell_type": "code",
     "collapsed": false,
     "input": [
      "from kernel_model import even_kernel, inv_funk_radon_even_kernel\n",
      "from dipy.viz import show_odfs\n",
      "from dipy.core.sphere import unit_icosahedron\n",
      "\n",
      "sphere = unit_icosahedron.subdivide(6)\n",
      "\n",
      "from mayavi import mlab\n",
      "mlab.options.offscreen = True\n",
      "mlab.figure(bgcolor=(1, 1, 1))\n",
      "\n",
      "# sphere.z = np.dot([0, 0, 1], [x, y, z]) = cos(mu)\n",
      "kernel_odf = even_kernel(sphere.z, N=8)\n",
      "kernel_signal = inv_funk_radon_even_kernel(sphere.z, N=8)\n",
      "\n",
      "show_odfs([[[kernel_odf, kernel_signal]]], (sphere.vertices, sphere.faces))\n",
      "mlab.view(azimuth=0, elevation=70, roll=160)\n",
      "\n",
      "fn = 'odf_crossing_both_domains.png'\n",
      "mlab.savefig(fn)\n",
      "mlab.close()\n",
      "\n",
      "from IPython.display import Image\n",
      "Image(filename=fn)"
     ],
     "language": "python",
     "metadata": {},
     "outputs": [],
     "prompt_number": "*"
    },
    {
     "cell_type": "markdown",
     "metadata": {},
     "source": [
      "## Fiber crossings"
     ]
    },
    {
     "cell_type": "markdown",
     "metadata": {},
     "source": [
      "### Configure experiment"
     ]
    },
    {
     "cell_type": "code",
     "collapsed": false,
     "input": [
      "# Number of Monte-Carlo simulations\n",
      "realizations = 50\n",
      "\n",
      "# Randomly discarded measurements\n",
      "discarded = 15\n",
      "\n",
      "# Signal to noise ratio\n",
      "sig_noise = 10\n",
      "\n",
      "# Crossing angles\n",
      "angles = np.array([30, 35, 40, 45, 50, 55, 60, 65, 70, 75, 80, 85, 90],\n",
      "                  dtype=float)\n",
      "\n",
      "# B-value\n",
      "B = 3000"
     ],
     "language": "python",
     "metadata": {},
     "outputs": [],
     "prompt_number": 10
    },
    {
     "cell_type": "code",
     "collapsed": false,
     "input": [
      "from kernel_model import SparseKernelModel\n",
      "from kernel_model import quadrature_points\n",
      "from sphdif.linalg import rotation_around_axis\n",
      "\n",
      "from dipy.core.gradients import GradientTable\n",
      "from dipy.reconst.shm import CsaOdfModel, OpdtModel, QballModel\n",
      "from dipy.sims.voxel import single_tensor\n",
      "from dipy.core.sphere import unit_icosahedron\n",
      "from dipy.reconst.odf import NonLinearDirectionFinder, DiscreteDirectionFinder\n",
      "import dipy.data\n",
      "\n",
      "from numpy.linalg import norm as norm\n",
      "\n",
      "AganjModel = CsaOdfModel            #what we do, but with ylms\n",
      "TristanVegaModel = OpdtModel\n",
      "TuchModel = QballModel"
     ],
     "language": "python",
     "metadata": {},
     "outputs": [],
     "prompt_number": 11
    },
    {
     "cell_type": "markdown",
     "metadata": {},
     "source": [
      "### Signal simulation"
     ]
    },
    {
     "cell_type": "code",
     "collapsed": false,
     "input": [
      "def two_fiber_signal(bvals, bvecs, angle, w=[0.5, 0.5], SNR=0):\n",
      "    R0 = rotation_around_axis([0, 1, 0], 0)\n",
      "    R1 = rotation_around_axis([0, 1, 0], np.deg2rad(angle))\n",
      "\n",
      "    E = w[0] * single_tensor(gradients=bvecs, bvals=bvals, S0=1, evecs=R0, snr=SNR)\n",
      "    E += w[1] * single_tensor(gradients=bvecs, bvals=bvals, S0=1, evecs=R1, snr=SNR)\n",
      "\n",
      "    return E"
     ],
     "language": "python",
     "metadata": {},
     "outputs": [],
     "prompt_number": 12
    },
    {
     "cell_type": "markdown",
     "metadata": {},
     "source": [
      "### Load gradients and construct direction finding directions"
     ]
    },
    {
     "cell_type": "code",
     "collapsed": false,
     "input": [
      "img, bvals, bvecs = dipy.data.get_data('small_64D')\n",
      "bvals = np.load(bvals)\n",
      "bvecs = np.load(bvecs)\n",
      "where_dwi = (bvals > 0)\n",
      "bvals = np.ones_like(bvals[where_dwi]) * B\n",
      "bvecs = bvecs[where_dwi]\n",
      "gtab = GradientTable(bvals[:, None] * bvecs, b0_threshold=0)"
     ],
     "language": "python",
     "metadata": {},
     "outputs": [],
     "prompt_number": 13
    },
    {
     "cell_type": "markdown",
     "metadata": {},
     "source": [
      "### Construct kernel model"
     ]
    },
    {
     "cell_type": "code",
     "collapsed": false,
     "input": [
      "SNR = None\n",
      "\n",
      "model = SparseKernelModel(gtab, sh_order=8, l1_ratio=0.99, alpha=0.0001)\n",
      "#model = AganjModel(gtab, sh_order=8, smooth=0.001, min_signal=0, assume_normed=True)\n",
      "#model = TuchModel(gtab, sh_order=8, smooth=0.001, min_signal=0, assume_normed=True)\n",
      "#model = TristanVegaModel(gtab, sh_order=8, smooth=0.001, min_signal=0, assume_normed=True)\n",
      "\n",
      "model_name = model.__class__.__name__\n",
      "\n",
      "# Choose between fast but less accurate discrete direction finder,\n",
      "# vs. optimization based non-linear direction finder\n",
      "\n",
      "# Discrete directions to search for maxima (typically 5 or 6).  Also\n",
      "# used to seed the maximization-based finder.\n",
      "sphere = unit_icosahedron.subdivide(5)\n",
      "\n",
      "#model.direction_finder = DiscreteDirectionFinder()\n",
      "model.direction_finder = NonLinearDirectionFinder()\n",
      "\n",
      "model.direction_finder.config(sphere=sphere, min_separation_angle=10)"
     ],
     "language": "python",
     "metadata": {},
     "outputs": [],
     "prompt_number": 14
    },
    {
     "cell_type": "markdown",
     "metadata": {},
     "source": [
      "### Create place-holders for results"
     ]
    },
    {
     "cell_type": "code",
     "collapsed": false,
     "input": [
      "error = np.zeros_like(angles)\n",
      "mean_means = np.zeros_like(angles)\n",
      "mean_stds = np.zeros_like(angles)\n",
      "recovered_angle = np.zeros((len(angles), realizations))"
     ],
     "language": "python",
     "metadata": {},
     "outputs": [],
     "prompt_number": 15
    },
    {
     "cell_type": "markdown",
     "metadata": {},
     "source": [
      "### Run the experiment"
     ]
    },
    {
     "cell_type": "code",
     "collapsed": false,
     "input": [
      "# This mask will be permuted on each iteration and used to discard measurements\n",
      "mask = np.zeros_like(bvals, dtype=bool)\n",
      "mask[:discarded] = True\n",
      "\n",
      "for n, angle in enumerate(angles):\n",
      "\n",
      "    print \"Angle %.2f, %d realizations, discarding %d measurements\" % \\\n",
      "          (angle, realizations, discarded)\n",
      "\n",
      "    # MC simulation loop\n",
      "    for kk in range(0, realizations):\n",
      "        \n",
      "        ## Generate measured signal\n",
      "        E = two_fiber_signal(bvals, bvecs, angle, SNR=SNR)\n",
      "\n",
      "        ## Create and add in Rician noise\n",
      "        noiseR = np.random.random(E.shape)\n",
      "        noiseI = np.random.random(E.shape)\n",
      "        noise = noiseR + 1j * noiseI\n",
      "        tau = (10.0**(-sig_noise / 10.0) * norm(E, 2))\n",
      "        noise = noise * (tau / norm(noise)) # Normalize to get desired SNR\n",
      "\n",
      "        E = E + noise\n",
      "        E = abs(E) # Measured amplitude signal\n",
      "\n",
      "        ## Randomly drop a few measurements by replacing their values with NaN\n",
      "        np.random.shuffle(mask)\n",
      "        E[mask] = np.nan\n",
      "        \n",
      "        ## Fit the model and get the directions\n",
      "        fit = model.fit(E)\n",
      "        try:\n",
      "            xyz = fit.directions\n",
      "        except ValueError:\n",
      "            xyz = []\n",
      "\n",
      "        ## If fewer than two primary directions were found, return 0 as the angle\n",
      "        if len(xyz) > 1:\n",
      "            w = np.dot(xyz[0], xyz[1])\n",
      "        else:\n",
      "            w = 1\n",
      "\n",
      "        ## Store the recovered angle for later analysis\n",
      "        recovered_angle[n, kk] = np.rad2deg(np.arccos(np.abs(w)))"
     ],
     "language": "python",
     "metadata": {},
     "outputs": [
      {
       "output_type": "stream",
       "stream": "stdout",
       "text": [
        "Angle 30.00, 50 realizations, discarding 15 measurements\n",
        "Angle 35.00, 50 realizations, discarding 15 measurements"
       ]
      },
      {
       "output_type": "stream",
       "stream": "stdout",
       "text": [
        "\n",
        "Angle 40.00, 50 realizations, discarding 15 measurements"
       ]
      },
      {
       "output_type": "stream",
       "stream": "stdout",
       "text": [
        "\n",
        "Angle 45.00, 50 realizations, discarding 15 measurements"
       ]
      },
      {
       "output_type": "stream",
       "stream": "stdout",
       "text": [
        "\n",
        "Angle 50.00, 50 realizations, discarding 15 measurements"
       ]
      },
      {
       "output_type": "stream",
       "stream": "stdout",
       "text": [
        "\n",
        "Angle 55.00, 50 realizations, discarding 15 measurements"
       ]
      },
      {
       "output_type": "stream",
       "stream": "stdout",
       "text": [
        "\n",
        "Angle 60.00, 50 realizations, discarding 15 measurements"
       ]
      },
      {
       "output_type": "stream",
       "stream": "stdout",
       "text": [
        "\n",
        "Angle 65.00, 50 realizations, discarding 15 measurements"
       ]
      },
      {
       "output_type": "stream",
       "stream": "stdout",
       "text": [
        "\n",
        "Angle 70.00, 50 realizations, discarding 15 measurements"
       ]
      },
      {
       "output_type": "stream",
       "stream": "stdout",
       "text": [
        "\n",
        "Angle 75.00, 50 realizations, discarding 15 measurements"
       ]
      },
      {
       "output_type": "stream",
       "stream": "stdout",
       "text": [
        "\n",
        "Angle 80.00, 50 realizations, discarding 15 measurements"
       ]
      },
      {
       "output_type": "stream",
       "stream": "stdout",
       "text": [
        "\n",
        "Angle 85.00, 50 realizations, discarding 15 measurements"
       ]
      },
      {
       "output_type": "stream",
       "stream": "stdout",
       "text": [
        "\n",
        "Angle 90.00, 50 realizations, discarding 15 measurements"
       ]
      },
      {
       "output_type": "stream",
       "stream": "stdout",
       "text": [
        "\n"
       ]
      }
     ],
     "prompt_number": 16
    },
    {
     "cell_type": "markdown",
     "metadata": {},
     "source": [
      "### Process output"
     ]
    },
    {
     "cell_type": "code",
     "collapsed": false,
     "input": [
      "#np.savetxt('_recovered_angle_aganj_8.npy', recovered_angle)\n",
      "\n",
      "np.set_printoptions(precision=2, suppress=True)\n",
      "print\n",
      "print \"Angle in / Angle out (mean) / STD / Error\"\n",
      "\n",
      "u = recovered_angle.mean(axis=1)\n",
      "s = recovered_angle.std(axis=1)\n",
      "e = np.abs(angles[:, None] - recovered_angle)\n",
      "e_u = e.mean(axis=1)\n",
      "e_s = e.std(axis=1)\n",
      "\n",
      "print np.column_stack((angles, u, s, e_u))\n",
      "np.savetxt('_recovered_angle_sk_15drop.npy', np.column_stack((angles, u, s, e_u)))\n",
      "\n",
      "f, ax = plt.subplots()\n",
      "\n",
      "ax.errorbar(angles, e_u, yerr=e_s, fmt='.-')\n",
      "ax.grid()\n",
      "ax.set_xlim([25, 95])\n",
      "ax.set_ylim([-10, 90])\n",
      "\n",
      "ax.set_xlabel('Actual fiber crossing angle')\n",
      "ax.set_ylabel('Error in reconstructed angle')\n",
      "\n",
      "bbox = dict(boxstyle=\"round, pad=1\", fc=\"white\")\n",
      "ax.annotate('''\\\n",
      "%d iterations\n",
      "%d samples randomly discarded\n",
      "Signal-to-Noise ratio (power defn.) = %.2f\\\n",
      "''' % (realizations, discarded, sig_noise), (48, 75), va='top', bbox=bbox)\n",
      "\n",
      "filename = 'sk_15drop_angle_reconstruction_%s_%diter_drop%d_snr%.2f.png' % (model_name, realizations, discarded, sig_noise)\n",
      "plt.savefig(filename)"
     ],
     "language": "python",
     "metadata": {},
     "outputs": [
      {
       "output_type": "stream",
       "stream": "stdout",
       "text": [
        "\n",
        "Angle in / Angle out (mean) / STD / Error\n",
        "[[ 30.    15.36  16.83  18.78]\n",
        " [ 35.    33.56  10.81   6.27]\n",
        " [ 40.    39.41   9.34   5.67]\n",
        " [ 45.    45.86   7.3    3.88]\n",
        " [ 50.    51.22   2.8    2.54]\n",
        " [ 55.    56.28   3.97   3.05]\n",
        " [ 60.    61.79   4.6    3.88]\n",
        " [ 65.    66.74   4.42   3.73]\n",
        " [ 70.    71.65   3.41   3.19]\n",
        " [ 75.    76.17   2.63   2.23]\n",
        " [ 80.    81.25   1.6    1.72]\n",
        " [ 85.    86.09   1.24   1.3 ]\n",
        " [ 90.    88.99   0.86   1.01]]\n"
       ]
      }
     ],
     "prompt_number": 17
    },
    {
     "cell_type": "code",
     "collapsed": false,
     "input": [],
     "language": "python",
     "metadata": {},
     "outputs": []
    }
   ],
   "metadata": {}
  }
 ]
}
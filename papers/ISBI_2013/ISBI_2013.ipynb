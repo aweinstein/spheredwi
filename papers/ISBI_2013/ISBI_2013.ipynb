{
 "metadata": {
  "name": "ISBI_2013"
 },
 "nbformat": 3,
 "nbformat_minor": 0,
 "worksheets": [
  {
   "cells": [
    {
     "cell_type": "markdown",
     "metadata": {},
     "source": [
      "Before using this notebook, please configure your environment according to [these instructions](http://nbviewer.ipython.org/urls/raw.github.com/fperez/spheredwi/master/papers/ISBI_2013/bootstrap.ipynb)."
     ]
    },
    {
     "cell_type": "code",
     "collapsed": false,
     "input": [
      "import sys\n",
      "sys.path.insert(0, 'dipy')\n",
      "sys.path.insert(0, 'spheredwi/src/fiber_directions')\n",
      "sys.path.insert(0, 'spheredwi/src/sphdif')"
     ],
     "language": "python",
     "metadata": {},
     "outputs": []
    },
    {
     "cell_type": "code",
     "collapsed": false,
     "input": [
      "# Only execute this cell if you are running on a headless display,\n",
      "# such as on Amazon EC2\n",
      "\n",
      "!echo \"Xvfb :1 -screen 0 1280x1024x24 -auth localhost\" | at now\n",
      "import os\n",
      "os.environ['DISPLAY'] = 'localhost:1.0'"
     ],
     "language": "python",
     "metadata": {},
     "outputs": []
    },
    {
     "cell_type": "code",
     "collapsed": false,
     "input": [
      "from mayavi import mlab\n",
      "\n",
      "mlab.figure(bgcolor=(1, 1, 1))\n",
      "mlab.test_plot3d()\n",
      "mlab.savefig('test.png')\n",
      "\n",
      "from IPython.display import Image\n",
      "Image(filename='test.png')"
     ],
     "language": "python",
     "metadata": {},
     "outputs": []
    },
    {
     "cell_type": "code",
     "collapsed": false,
     "input": [],
     "language": "python",
     "metadata": {},
     "outputs": []
    }
   ],
   "metadata": {}
  }
 ]
}
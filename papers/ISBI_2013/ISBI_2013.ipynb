{
 "metadata": {
  "name": "ISBI_2013"
 },
 "nbformat": 3,
 "nbformat_minor": 0,
 "worksheets": [
  {
   "cells": [
    {
     "cell_type": "markdown",
     "metadata": {},
     "source": [
      "Before using this notebook, please configure your environment according to [these instructions](http://nbviewer.ipython.org/urls/raw.github.com/fperez/spheredwi/master/papers/ISBI_2013/bootstrap.ipynb)."
     ]
    },
    {
     "cell_type": "code",
     "collapsed": false,
     "input": [
      "import sys\n",
      "sys.path.insert(0, 'dipy')\n",
      "\n",
      "sys.path.insert(0, 'spheredwi/src/fiber_directions/')\n",
      "sys.path.insert(0, 'spheredwi/src/')\n",
      "\n",
      "import matplotlib.pyplot as plt\n",
      "import numpy as np"
     ],
     "language": "python",
     "metadata": {},
     "outputs": []
    },
    {
     "cell_type": "code",
     "collapsed": false,
     "input": [
      "# Only execute this cell if you are running on a headless display,\n",
      "# such as on Amazon EC2\n",
      "\n",
      "!echo \"Xvfb :1 -screen 0 1280x1024x24 -auth localhost\" | at now\n",
      "import os\n",
      "os.environ['DISPLAY'] = 'localhost:1.0'"
     ],
     "language": "python",
     "metadata": {},
     "outputs": []
    },
    {
     "cell_type": "code",
     "collapsed": false,
     "input": [
      "from mayavi import mlab\n",
      "\n",
      "mlab.figure(bgcolor=(1, 1, 1))\n",
      "mlab.test_plot3d()\n",
      "mlab.savefig('test.png')\n",
      "\n",
      "from IPython.display import Image\n",
      "Image(filename='test.png')"
     ],
     "language": "python",
     "metadata": {},
     "outputs": []
    },
    {
     "cell_type": "markdown",
     "metadata": {},
     "source": [
      "### Configure experiment"
     ]
    },
    {
     "cell_type": "code",
     "collapsed": false,
     "input": [
      "# Number of Monte-Carlo simulations\n",
      "realizations = 50\n",
      "\n",
      "# Randomly discarded measurements\n",
      "discarded = 3\n",
      "\n",
      "# Signal to noise ratio\n",
      "sig_noise = 5\n",
      "\n",
      "# Crossing angles\n",
      "angles = np.array([30, 35, 40, 45, 50, 55, 60, 65, 70, 75, 80, 85, 90],\n",
      "                  dtype=float)\n",
      "\n",
      "# B-value\n",
      "B = 3000"
     ],
     "language": "python",
     "metadata": {},
     "outputs": []
    },
    {
     "cell_type": "code",
     "collapsed": false,
     "input": [
      "from kernel_model import SparseKernelModel\n",
      "from kernel_model import quadrature_points\n",
      "from sphdif.linalg import rotation_around_axis\n",
      "\n",
      "from dipy.sims.voxel import single_tensor\n",
      "from dipy.core.sphere import unit_icosahedron\n",
      "import dipy.data\n",
      "\n",
      "from numpy.linalg import norm as norm"
     ],
     "language": "python",
     "metadata": {},
     "outputs": []
    },
    {
     "cell_type": "markdown",
     "metadata": {},
     "source": [
      "### Signal simulation"
     ]
    },
    {
     "cell_type": "code",
     "collapsed": false,
     "input": [
      "def two_fiber_signal(bvals, bvecs, angle, w=[0.5, 0.5], SNR=0):\n",
      "    R0 = rotation_around_axis([0, 1, 0], 0)\n",
      "    R1 = rotation_around_axis([0, 1, 0], np.deg2rad(angle))\n",
      "\n",
      "    E = w[0] * single_tensor(gradients=bvecs, bvals=bvals, S0=1, evecs=R0, snr=SNR)\n",
      "    E += w[1] * single_tensor(gradients=bvecs, bvals=bvals, S0=1, evecs=R1, snr=SNR)\n",
      "\n",
      "    return E"
     ],
     "language": "python",
     "metadata": {},
     "outputs": []
    },
    {
     "cell_type": "markdown",
     "metadata": {},
     "source": [
      "### Load gradients and construct direction finding directions"
     ]
    },
    {
     "cell_type": "code",
     "collapsed": false,
     "input": [
      "img, bvals, bvecs = dipy.data.get_data('small_64D')\n",
      "bvals = np.load(bvals)\n",
      "bvecs = np.load(bvecs)\n",
      "where_dwi = bvals > 0\n",
      "bvecs = bvecs[where_dwi]\n",
      "bvals = bvals[where_dwi]\n",
      "bvals = np.ones_like(bvals) * B\n",
      "\n",
      "sphere = unit_icosahedron.subdivide(5)"
     ],
     "language": "python",
     "metadata": {},
     "outputs": []
    },
    {
     "cell_type": "markdown",
     "metadata": {},
     "source": [
      "### Create place-holders for results"
     ]
    },
    {
     "cell_type": "code",
     "collapsed": false,
     "input": [
      "error = np.zeros_like(angles)\n",
      "mean_means = np.zeros_like(angles)\n",
      "mean_stds = np.zeros_like(angles)\n",
      "recovered_angle = np.zeros((len(angles), realizations))"
     ],
     "language": "python",
     "metadata": {},
     "outputs": []
    },
    {
     "cell_type": "markdown",
     "metadata": {},
     "source": [
      "### Construct kernel model"
     ]
    },
    {
     "cell_type": "code",
     "collapsed": false,
     "input": [
      "SNR = None\n",
      "sk = SparseKernelModel(bvals, bvecs, sh_order=8, l1_ratio=0.5, alpha=0.0001)\n",
      "sk.direction_finder.config(sphere=sphere, min_separation_angle=10)"
     ],
     "language": "python",
     "metadata": {},
     "outputs": []
    },
    {
     "cell_type": "code",
     "collapsed": false,
     "input": [
      "# This mask will be permuted on each iteration and used to discard measurements\n",
      "mask = np.zeros_like(bvals, dtype=bool)\n",
      "mask[:discarded] = True\n",
      "\n",
      "for n, angle in enumerate(angles):\n",
      "\n",
      "    print \"Angle %.2f, %d realizations, discarding %d measurements\" % \\\n",
      "          (angle, realizations, discarded)\n",
      "\n",
      "    # MC simulation loop\n",
      "    for kk in range(0, realizations):\n",
      "        \n",
      "        ## Generate measured signal\n",
      "        E = two_fiber_signal(bvals, bvecs, angle, SNR=SNR)\n",
      "\n",
      "        ## Create and add in Rician noise\n",
      "        noiseR = np.random.random(E.shape)\n",
      "        noiseI = np.random.random(E.shape)\n",
      "        noise = noiseR + 1j * noiseI\n",
      "        tau = (10.0**(-sig_noise / 10.0) * norm(E, 2))\n",
      "        noise = noise * (tau / norm(noise)) # Normalize to get desired SNR\n",
      "\n",
      "        E = E + noise\n",
      "        E = abs(E) # Measured amplitude signal\n",
      "\n",
      "        ## Randomly drop a few measurements by replacing their values with NaN\n",
      "        np.random.shuffle(mask)\n",
      "        E[mask] = np.nan\n",
      "\n",
      "        ## Fit the model and get the directions\n",
      "        fit = sk.fit(E)\n",
      "        xyz = fit.directions\n",
      "\n",
      "        ## If fewer than two primary directions were found, return 0 as the angle\n",
      "        if len(xyz) > 1:\n",
      "            w = np.dot(xyz[0], xyz[1])\n",
      "        else:\n",
      "            w = 1\n",
      "\n",
      "        ## Store the recovered angle for later analysis\n",
      "        recovered_angle[n, kk] = np.rad2deg(np.arccos(np.abs(w)))"
     ],
     "language": "python",
     "metadata": {},
     "outputs": []
    },
    {
     "cell_type": "markdown",
     "metadata": {},
     "source": [
      "### Process output"
     ]
    },
    {
     "cell_type": "code",
     "collapsed": false,
     "input": [
      "np.savetxt('_recovered_angle.npy', recovered_angle)\n",
      "\n",
      "np.set_printoptions(precision=2, suppress=True)\n",
      "print\n",
      "print \"Angle in / Angle out (mean) / STD / Error\"\n",
      "\n",
      "u = recovered_angle.mean(axis=1)\n",
      "s = recovered_angle.std(axis=1)\n",
      "e = np.abs(angles[:, None] - recovered_angle)\n",
      "e_u = e.mean(axis=1)\n",
      "e_s = e.std(axis=1)\n",
      "\n",
      "print np.column_stack((angles, u, s, e_u))\n",
      "\n",
      "f, ax = plt.subplots()\n",
      "\n",
      "ax.errorbar(angles, e_u, yerr=e_s, fmt='.-')\n",
      "ax.grid()\n",
      "ax.set_xlim([25, 95])\n",
      "ax.set_ylim([-10, 40])\n",
      "\n",
      "ax.set_xlabel('Actual fiber crossing angle')\n",
      "ax.set_ylabel('Error in reconstructed angle')\n",
      "\n",
      "bbox = dict(boxstyle=\"round, pad=1\", fc=\"white\")\n",
      "ax.annotate('''\\\n",
      "%d iterations\n",
      "%d samples randomly discarded\n",
      "Signal-to-Noise ratio (power defn.) = %.2f\\\n",
      "''' % (realizations, discarded, sig_noise), (48, 35), va='top', bbox=bbox)\n",
      "\n",
      "plt.show()"
     ],
     "language": "python",
     "metadata": {},
     "outputs": []
    },
    {
     "cell_type": "code",
     "collapsed": false,
     "input": [],
     "language": "python",
     "metadata": {},
     "outputs": []
    }
   ],
   "metadata": {}
  }
 ]
}